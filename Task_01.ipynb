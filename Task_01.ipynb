{
  "nbformat": 4,
  "nbformat_minor": 0,
  "metadata": {
    "colab": {
      "provenance": []
    },
    "kernelspec": {
      "name": "python3",
      "display_name": "Python 3"
    },
    "language_info": {
      "name": "python"
    }
  },
  "cells": [
    {
      "cell_type": "markdown",
      "source": [
        "## Import Libraries"
      ],
      "metadata": {
        "id": "CzihLenI__oT"
      }
    },
    {
      "cell_type": "code",
      "source": [
        "from keras.datasets import mnist\n",
        "from keras.utils import to_categorical\n",
        "from keras.layers import *\n",
        "from keras.models import *\n",
        "import numpy as np"
      ],
      "metadata": {
        "id": "MNR2rtybejaY"
      },
      "execution_count": 1,
      "outputs": []
    },
    {
      "cell_type": "markdown",
      "source": [
        "## Load and preprocess the MNIST dataset"
      ],
      "metadata": {
        "id": "RMBhsFGtepJf"
      }
    },
    {
      "cell_type": "code",
      "source": [
        "(train_images , train_labels) , (validation_images , validation_labels) = mnist.load_data()\n",
        "## reshaping the images and normalizing the pixel values to be between 0 and 1.\n",
        "train_images = train_images.reshape((60000, 28, 28, 1)).astype('float32') / 255\n",
        "validation_images = validation_images.reshape((10000, 28, 28, 1)).astype('float32') / 255"
      ],
      "metadata": {
        "id": "jJAnML90eoKI"
      },
      "execution_count": 2,
      "outputs": []
    },
    {
      "cell_type": "code",
      "source": [
        "## Just Print the shape\n",
        "print(\"Training Dataset : \")\n",
        "print(train_images.shape)\n",
        "print(train_labels.shape)\n",
        "\n",
        "print(\"Validation dataset : \")\n",
        "print(validation_images.shape)\n",
        "print(validation_labels.shape)"
      ],
      "metadata": {
        "colab": {
          "base_uri": "https://localhost:8080/"
        },
        "id": "r0WMK_sVfMSt",
        "outputId": "9111a9d7-9b73-47f9-bb04-cb5756d0145e"
      },
      "execution_count": 3,
      "outputs": [
        {
          "output_type": "stream",
          "name": "stdout",
          "text": [
            "Training Dataset : \n",
            "(60000, 28, 28, 1)\n",
            "(60000,)\n",
            "Validation dataset : \n",
            "(10000, 28, 28, 1)\n",
            "(10000,)\n"
          ]
        }
      ]
    },
    {
      "cell_type": "code",
      "source": [
        "validation_labels[6]"
      ],
      "metadata": {
        "id": "LYj3_81V5oSi",
        "colab": {
          "base_uri": "https://localhost:8080/"
        },
        "outputId": "7c004dcc-ff65-49e2-8cca-ea63305a552b"
      },
      "execution_count": 4,
      "outputs": [
        {
          "output_type": "execute_result",
          "data": {
            "text/plain": [
              "4"
            ]
          },
          "metadata": {},
          "execution_count": 4
        }
      ]
    },
    {
      "cell_type": "code",
      "source": [
        "train_labels = to_categorical(train_labels)\n",
        "validation_labels = to_categorical(validation_labels)"
      ],
      "metadata": {
        "id": "7ypkiE96fL6k"
      },
      "execution_count": 5,
      "outputs": []
    },
    {
      "cell_type": "code",
      "source": [
        "validation_labels[6]"
      ],
      "metadata": {
        "colab": {
          "base_uri": "https://localhost:8080/"
        },
        "id": "sHGkiFlVfujo",
        "outputId": "a6b2b8ff-1b0a-4b50-9874-024611033ace"
      },
      "execution_count": 6,
      "outputs": [
        {
          "output_type": "execute_result",
          "data": {
            "text/plain": [
              "array([0., 0., 0., 0., 1., 0., 0., 0., 0., 0.], dtype=float32)"
            ]
          },
          "metadata": {},
          "execution_count": 6
        }
      ]
    },
    {
      "cell_type": "code",
      "execution_count": 7,
      "metadata": {
        "colab": {
          "base_uri": "https://localhost:8080/"
        },
        "id": "7TvNpKGOSKZS",
        "outputId": "a7377561-3cbf-4797-ada6-0b076a6a0f7f"
      },
      "outputs": [
        {
          "output_type": "stream",
          "name": "stdout",
          "text": [
            "Model: \"sequential\"\n",
            "_________________________________________________________________\n",
            " Layer (type)                Output Shape              Param #   \n",
            "=================================================================\n",
            " conv2d (Conv2D)             (None, 24, 24, 6)         156       \n",
            "                                                                 \n",
            " max_pooling2d (MaxPooling2  (None, 12, 12, 6)         0         \n",
            " D)                                                              \n",
            "                                                                 \n",
            " conv2d_1 (Conv2D)           (None, 8, 8, 16)          2416      \n",
            "                                                                 \n",
            " max_pooling2d_1 (MaxPoolin  (None, 4, 4, 16)          0         \n",
            " g2D)                                                            \n",
            "                                                                 \n",
            " flatten (Flatten)           (None, 256)               0         \n",
            "                                                                 \n",
            " dense (Dense)               (None, 120)               30840     \n",
            "                                                                 \n",
            " dense_1 (Dense)             (None, 84)                10164     \n",
            "                                                                 \n",
            " dropout (Dropout)           (None, 84)                0         \n",
            "                                                                 \n",
            " dense_2 (Dense)             (None, 10)                850       \n",
            "                                                                 \n",
            "=================================================================\n",
            "Total params: 44426 (173.54 KB)\n",
            "Trainable params: 44426 (173.54 KB)\n",
            "Non-trainable params: 0 (0.00 Byte)\n",
            "_________________________________________________________________\n",
            "None\n"
          ]
        }
      ],
      "source": [
        "# Define The LeNet-5 Architechture\n",
        "model = Sequential()\n",
        "#Layer 1\n",
        "#Conv Layer 1\n",
        "model.add(Conv2D(filters = 6,\n",
        "                 kernel_size = 5,\n",
        "                 strides = 1,\n",
        "                 activation = 'relu',\n",
        "                 input_shape = (28,28,1)))\n",
        "\n",
        "#Pooling layer 1\n",
        "model.add(MaxPooling2D(pool_size = 2, strides = 2))\n",
        "\n",
        "#Layer 2\n",
        "#Conv Layer 2\n",
        "model.add(Conv2D(filters = 16,\n",
        "                 kernel_size = 5,\n",
        "                 strides = 1,\n",
        "                 activation = 'relu',\n",
        "                 input_shape = (14,14,6)))\n",
        "#Pooling Layer 2\n",
        "model.add(MaxPooling2D(pool_size = 2, strides = 2))\n",
        "#Flatten\n",
        "model.add(Flatten())\n",
        "\n",
        "#Layer 3\n",
        "#Fully connected layer 1\n",
        "model.add(Dense(units = 120, activation = 'relu'))\n",
        "\n",
        "#Layer 4\n",
        "#Fully connected layer 2\n",
        "model.add(Dense(units = 84, activation = 'relu'))\n",
        "model.add(Dropout(0.2))\n",
        "\n",
        "#Layer 5\n",
        "#Output Layer\n",
        "model.add(Dense(units = 10, activation = 'softmax'))\n",
        "\n",
        "# Compile the model\n",
        "model.compile(optimizer = 'adam', loss = 'categorical_crossentropy', metrics = ['accuracy'])\n",
        "\n",
        "print(model.summary())\n"
      ]
    },
    {
      "cell_type": "markdown",
      "source": [
        "### Training and Prediction"
      ],
      "metadata": {
        "id": "mBPbAZIo_9gc"
      }
    },
    {
      "cell_type": "code",
      "source": [
        "# Train the model\n",
        "model.fit(train_images,train_labels , batch_size=128, epochs=20, verbose=1, validation_data=(validation_images, validation_labels))\n",
        "\n",
        "# Prediction for validation_images\n",
        "y_pred = model.predict(validation_images)\n",
        "\n",
        "#Converting one hot vectors to labels\n",
        "labels = np.argmax(y_pred, axis = 1)\n",
        "\n",
        "print(labels)"
      ],
      "metadata": {
        "colab": {
          "base_uri": "https://localhost:8080/"
        },
        "id": "df1QAaE_s0oh",
        "outputId": "8cb69e37-d685-41b5-a058-ca712b435b18"
      },
      "execution_count": 8,
      "outputs": [
        {
          "output_type": "stream",
          "name": "stdout",
          "text": [
            "Epoch 1/20\n",
            "469/469 [==============================] - 37s 75ms/step - loss: 0.3908 - accuracy: 0.8784 - val_loss: 0.0927 - val_accuracy: 0.9721\n",
            "Epoch 2/20\n",
            "469/469 [==============================] - 29s 62ms/step - loss: 0.1063 - accuracy: 0.9682 - val_loss: 0.0589 - val_accuracy: 0.9797\n",
            "Epoch 3/20\n",
            "469/469 [==============================] - 26s 55ms/step - loss: 0.0745 - accuracy: 0.9777 - val_loss: 0.0512 - val_accuracy: 0.9837\n",
            "Epoch 4/20\n",
            "469/469 [==============================] - 27s 57ms/step - loss: 0.0600 - accuracy: 0.9818 - val_loss: 0.0369 - val_accuracy: 0.9868\n",
            "Epoch 5/20\n",
            "469/469 [==============================] - 27s 58ms/step - loss: 0.0507 - accuracy: 0.9840 - val_loss: 0.0342 - val_accuracy: 0.9881\n",
            "Epoch 6/20\n",
            "469/469 [==============================] - 27s 57ms/step - loss: 0.0422 - accuracy: 0.9870 - val_loss: 0.0438 - val_accuracy: 0.9857\n",
            "Epoch 7/20\n",
            "469/469 [==============================] - 26s 56ms/step - loss: 0.0373 - accuracy: 0.9883 - val_loss: 0.0288 - val_accuracy: 0.9905\n",
            "Epoch 8/20\n",
            "469/469 [==============================] - 26s 55ms/step - loss: 0.0330 - accuracy: 0.9892 - val_loss: 0.0299 - val_accuracy: 0.9908\n",
            "Epoch 9/20\n",
            "469/469 [==============================] - 27s 57ms/step - loss: 0.0282 - accuracy: 0.9913 - val_loss: 0.0279 - val_accuracy: 0.9913\n",
            "Epoch 10/20\n",
            "469/469 [==============================] - 27s 57ms/step - loss: 0.0260 - accuracy: 0.9916 - val_loss: 0.0363 - val_accuracy: 0.9892\n",
            "Epoch 11/20\n",
            "469/469 [==============================] - 27s 57ms/step - loss: 0.0232 - accuracy: 0.9930 - val_loss: 0.0318 - val_accuracy: 0.9905\n",
            "Epoch 12/20\n",
            "469/469 [==============================] - 25s 53ms/step - loss: 0.0215 - accuracy: 0.9928 - val_loss: 0.0396 - val_accuracy: 0.9890\n",
            "Epoch 13/20\n",
            "469/469 [==============================] - 27s 57ms/step - loss: 0.0187 - accuracy: 0.9940 - val_loss: 0.0421 - val_accuracy: 0.9874\n",
            "Epoch 14/20\n",
            "469/469 [==============================] - 29s 62ms/step - loss: 0.0184 - accuracy: 0.9939 - val_loss: 0.0312 - val_accuracy: 0.9898\n",
            "Epoch 15/20\n",
            "469/469 [==============================] - 27s 57ms/step - loss: 0.0160 - accuracy: 0.9949 - val_loss: 0.0363 - val_accuracy: 0.9902\n",
            "Epoch 16/20\n",
            "469/469 [==============================] - 25s 53ms/step - loss: 0.0145 - accuracy: 0.9953 - val_loss: 0.0330 - val_accuracy: 0.9911\n",
            "Epoch 17/20\n",
            "469/469 [==============================] - 26s 56ms/step - loss: 0.0131 - accuracy: 0.9958 - val_loss: 0.0362 - val_accuracy: 0.9905\n",
            "Epoch 18/20\n",
            "469/469 [==============================] - 27s 57ms/step - loss: 0.0121 - accuracy: 0.9959 - val_loss: 0.0363 - val_accuracy: 0.9896\n",
            "Epoch 19/20\n",
            "469/469 [==============================] - 27s 59ms/step - loss: 0.0122 - accuracy: 0.9960 - val_loss: 0.0355 - val_accuracy: 0.9902\n",
            "Epoch 20/20\n",
            "469/469 [==============================] - 26s 55ms/step - loss: 0.0110 - accuracy: 0.9966 - val_loss: 0.0370 - val_accuracy: 0.9907\n",
            "313/313 [==============================] - 3s 7ms/step\n",
            "[7 2 1 ... 4 5 6]\n"
          ]
        }
      ]
    },
    {
      "cell_type": "markdown",
      "source": [
        "### Evaluation"
      ],
      "metadata": {
        "id": "rVkwjCJ75MX7"
      }
    },
    {
      "cell_type": "code",
      "source": [
        "## Evaluate the model\n",
        "Loss , Accuracy = model.evaluate(validation_images, validation_labels)\n",
        "print(f\"Loss :{Loss} , Accuracy : {Accuracy * 100:.3f}%\")"
      ],
      "metadata": {
        "colab": {
          "base_uri": "https://localhost:8080/"
        },
        "id": "DVJ4_SKzef7w",
        "outputId": "df351458-0b81-4766-c348-e5842d56f71b"
      },
      "execution_count": 9,
      "outputs": [
        {
          "output_type": "stream",
          "name": "stdout",
          "text": [
            "313/313 [==============================] - 2s 6ms/step - loss: 0.0370 - accuracy: 0.9907\n",
            "Loss :0.03700810298323631 , Accuracy : 99.070%\n"
          ]
        }
      ]
    },
    {
      "cell_type": "code",
      "source": [],
      "metadata": {
        "id": "4JmTCxJ1poE7"
      },
      "execution_count": 9,
      "outputs": []
    }
  ]
}